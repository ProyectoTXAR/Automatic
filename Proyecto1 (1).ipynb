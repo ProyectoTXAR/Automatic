{
  "nbformat": 4,
  "nbformat_minor": 0,
  "metadata": {
    "colab": {
      "provenance": []
    },
    "kernelspec": {
      "name": "python3",
      "display_name": "Python 3"
    },
    "language_info": {
      "name": "python"
    }
  },
  "cells": [
    {
      "cell_type": "code",
      "execution_count": 9,
      "metadata": {
        "id": "tvnKjoGvvfV8"
      },
      "outputs": [],
      "source": [
        "%%capture\n",
        "!pip install selenium\n",
        "!pip install openpyxl"
      ]
    },
    {
      "cell_type": "code",
      "source": [
        "%%shell\n",
        "\n",
        "# Add debian buster\n",
        "cat > /etc/apt/sources.list.d/debian.list <<'EOF'\n",
        "deb [arch=amd64 signed-by=/usr/share/keyrings/debian-buster.gpg] http://deb.debian.org/debian buster main\n",
        "deb [arch=amd64 signed-by=/usr/share/keyrings/debian-buster-updates.gpg] http://deb.debian.org/debian buster-updates main\n",
        "deb [arch=amd64 signed-by=/usr/share/keyrings/debian-security-buster.gpg] http://deb.debian.org/debian-security buster/updates main\n",
        "EOF\n",
        "\n",
        "# Add keys\n",
        "sudo apt-key adv --keyserver keyserver.ubuntu.com --recv-keys 648ACFD622F3D138\n",
        "sudo apt-key adv --keyserver keyserver.ubuntu.com --recv-keys 0E98404D386FA1D9\n",
        "sudo apt-key adv --keyserver keyserver.ubuntu.com --recv-keys DCC9EFBF77E11517\n",
        "\n",
        "\n",
        "apt-key export 77E11517 | gpg --batch --dearmour -o /usr/share/keyrings/debian-buster.gpg\n",
        "apt-key export 22F3D138 | gpg --batch --dearmour -o /usr/share/keyrings/debian-buster-updates.gpg\n",
        "apt-key export E562B32A | gpg --batch --dearmour -o /usr/share/keyrings/debian-security-buster.gpg\n",
        "\n",
        "# Prefer debian repo for chromium* packages only\n",
        "# Note the double-blank lines between entries\n",
        "cat > /etc/apt/preferences.d/chromium.pref << 'EOF'\n",
        "Package: *\n",
        "Pin: release a=eoan\n",
        "Pin-Priority: 500\n",
        "\n",
        "\n",
        "Package: *\n",
        "Pin: origin \"deb.debian.org\"\n",
        "Pin-Priority: 300\n",
        "\n",
        "\n",
        "Package: chromium*\n",
        "Pin: origin \"deb.debian.org\"\n",
        "Pin-Priority: 700\n",
        "EOF\n"
      ],
      "metadata": {
        "id": "fu1ozXHavm5g",
        "colab": {
          "base_uri": "https://localhost:8080/"
        },
        "outputId": "063f4ac4-3233-4873-87af-2f25170af075"
      },
      "execution_count": 10,
      "outputs": [
        {
          "output_type": "stream",
          "name": "stdout",
          "text": [
            "Executing: /tmp/apt-key-gpghome.kViQBXjfxH/gpg.1.sh --keyserver keyserver.ubuntu.com --recv-keys 648ACFD622F3D138\n",
            "gpg: key DC30D7C23CBBABEE: \"Debian Archive Automatic Signing Key (10/buster) <ftpmaster@debian.org>\" not changed\n",
            "gpg: Total number processed: 1\n",
            "gpg:              unchanged: 1\n",
            "Executing: /tmp/apt-key-gpghome.WIcGYpujb6/gpg.1.sh --keyserver keyserver.ubuntu.com --recv-keys 0E98404D386FA1D9\n",
            "gpg: key 73A4F27B8DD47936: \"Debian Archive Automatic Signing Key (11/bullseye) <ftpmaster@debian.org>\" not changed\n",
            "gpg: Total number processed: 1\n",
            "gpg:              unchanged: 1\n",
            "Executing: /tmp/apt-key-gpghome.njSrpBCC7u/gpg.1.sh --keyserver keyserver.ubuntu.com --recv-keys DCC9EFBF77E11517\n",
            "gpg: key DCC9EFBF77E11517: \"Debian Stable Release Key (10/buster) <debian-release@lists.debian.org>\" not changed\n",
            "gpg: Total number processed: 1\n",
            "gpg:              unchanged: 1\n",
            "gpg: no valid OpenPGP data found.\n",
            "gpg: dearmoring failed: File exists\n",
            "Warning: apt-key output should not be parsed (stdout is not a terminal)\n",
            "gpg: [stdout]: write error: Broken pipe\n",
            "gpg: filter_flush failed on close: Broken pipe\n",
            "gpg: no valid OpenPGP data found.\n",
            "gpg: dearmoring failed: File exists\n",
            "Warning: apt-key output should not be parsed (stdout is not a terminal)\n",
            "gpg: [stdout]: write error: Broken pipe\n",
            "gpg: filter_flush failed on close: Broken pipe\n",
            "gpg: no valid OpenPGP data found.\n",
            "gpg: dearmoring failed: File exists\n",
            "Warning: apt-key output should not be parsed (stdout is not a terminal)\n",
            "gpg: WARNING: nothing exported\n"
          ]
        },
        {
          "output_type": "execute_result",
          "data": {
            "text/plain": []
          },
          "metadata": {},
          "execution_count": 10
        }
      ]
    },
    {
      "cell_type": "code",
      "source": [
        "!apt-get update\n",
        "!apt-get install chromium chromium-driver\n",
        "!sudo apt --fix-broken install"
      ],
      "metadata": {
        "id": "rhp1fGCIvs2s",
        "colab": {
          "base_uri": "https://localhost:8080/"
        },
        "outputId": "660b6c1d-7727-44cc-9cca-20034a741bc1"
      },
      "execution_count": 11,
      "outputs": [
        {
          "output_type": "stream",
          "name": "stdout",
          "text": [
            "\r0% [Working]\r            \rHit:1 http://deb.debian.org/debian buster InRelease\n",
            "\r0% [Waiting for headers] [Connecting to security.ubuntu.com (185.125.190.36)] [\r                                                                               \rHit:2 http://archive.ubuntu.com/ubuntu focal InRelease\n",
            "\r0% [Waiting for headers] [Connecting to security.ubuntu.com (185.125.190.36)] [\r                                                                               \rHit:3 http://deb.debian.org/debian buster-updates InRelease\n",
            "\r0% [Waiting for headers] [Connecting to security.ubuntu.com (185.125.190.36)] [\r                                                                               \rGet:4 http://deb.debian.org/debian-security buster/updates InRelease [34.8 kB]\n",
            "\r0% [Waiting for headers] [Connecting to security.ubuntu.com (185.125.190.36)] [\r                                                                               \rGet:5 http://archive.ubuntu.com/ubuntu focal-updates InRelease [114 kB]\n",
            "\r0% [5 InRelease 14.2 kB/114 kB 12%] [Waiting for headers] [Waiting for headers]\r                                                                               \rIgn:6 https://developer.download.nvidia.com/compute/machine-learning/repos/ubuntu2004/x86_64  InRelease\n",
            "\r0% [5 InRelease 15.6 kB/114 kB 14%] [Waiting for headers] [Waiting for headers]\r                                                                               \rHit:7 https://developer.download.nvidia.com/compute/cuda/repos/ubuntu2004/x86_64  InRelease\n",
            "\r0% [5 InRelease 24.3 kB/114 kB 21%] [Waiting for headers] [Waiting for headers]\r                                                                               \rHit:8 https://cloud.r-project.org/bin/linux/ubuntu focal-cran40/ InRelease\n",
            "Hit:9 https://developer.download.nvidia.com/compute/machine-learning/repos/ubuntu2004/x86_64  Release\n",
            "Get:10 http://security.ubuntu.com/ubuntu focal-security InRelease [114 kB]\n",
            "Hit:11 http://ppa.launchpad.net/c2d4u.team/c2d4u4.0+/ubuntu focal InRelease\n",
            "Get:12 http://archive.ubuntu.com/ubuntu focal-backports InRelease [108 kB]\n",
            "Err:4 http://deb.debian.org/debian-security buster/updates InRelease\n",
            "  The following signatures couldn't be verified because the public key is not available: NO_PUBKEY 112695A0E562B32A NO_PUBKEY 54404762BBB6E853\n",
            "Hit:13 http://ppa.launchpad.net/cran/libgit2/ubuntu focal InRelease\n",
            "Hit:14 http://ppa.launchpad.net/deadsnakes/ppa/ubuntu focal InRelease\n",
            "Hit:16 http://ppa.launchpad.net/graphics-drivers/ppa/ubuntu focal InRelease\n",
            "Hit:17 http://ppa.launchpad.net/ubuntugis/ppa/ubuntu focal InRelease\n",
            "Reading package lists... Done\n",
            "W: GPG error: http://deb.debian.org/debian-security buster/updates InRelease: The following signatures couldn't be verified because the public key is not available: NO_PUBKEY 112695A0E562B32A NO_PUBKEY 54404762BBB6E853\n",
            "E: The repository 'http://deb.debian.org/debian-security buster/updates InRelease' is not signed.\n",
            "N: Updating from such a repository can't be done securely, and is therefore disabled by default.\n",
            "N: See apt-secure(8) manpage for repository creation and user configuration details.\n",
            "Reading package lists... Done\n",
            "Building dependency tree       \n",
            "Reading state information... Done\n",
            "chromium is already the newest version (90.0.4430.212-1~deb10u1).\n",
            "chromium-driver is already the newest version (90.0.4430.212-1~deb10u1).\n",
            "0 upgraded, 0 newly installed, 0 to remove and 26 not upgraded.\n",
            "Reading package lists... Done\n",
            "Building dependency tree       \n",
            "Reading state information... Done\n",
            "0 upgraded, 0 newly installed, 0 to remove and 26 not upgraded.\n"
          ]
        }
      ]
    },
    {
      "cell_type": "code",
      "source": [
        "from selenium import webdriver\n",
        "from selenium.webdriver.support.select import Select\n",
        "from selenium.webdriver.support.ui import WebDriverWait\n",
        "from selenium.webdriver.support import expected_conditions as EC\n",
        "from selenium.webdriver.common.by import By\n",
        "from google.colab import files\n",
        "import time\n",
        "import pandas as pd\n",
        "import numpy as np\n",
        "def web_driver():\n",
        "    options = webdriver.ChromeOptions()\n",
        "    options.add_argument(\"--verbose\")\n",
        "    options.add_argument('--no-sandbox')\n",
        "    options.add_argument('--headless')\n",
        "    options.add_argument('--disable-gpu')\n",
        "    options.add_argument(\"--window-size=1920, 1200\")\n",
        "    options.add_argument('--disable-dev-shm-usage')\n",
        "    driver = webdriver.Chrome(options=options)\n",
        "    return driver\n",
        "\n",
        "driver = web_driver()\n",
        "driver.get('https://www.cafci.org.ar/consulta-de-fondos.html')\n",
        "\n",
        "# Click en \"Tipo de renta\"\n",
        "WebDriverWait(driver, 60)\\\n",
        "    .until(EC.element_to_be_clickable((By.XPATH,\n",
        "                                      '/html[1]/body[1]/div[1]/div[2]/div[2]/div[2]/div[3]/div[1]/div[2]/div[1]/table[1]/tbody[1]/tr[1]/td[3]/select[1]')))\\\n",
        "    .click()\n",
        "\n",
        "# Click en mercado de dinero\n",
        "WebDriverWait(driver, 60)\\\n",
        "    .until(EC.element_to_be_clickable((By.XPATH,\n",
        "                                      '/html[1]/body[1]/div[1]/div[2]/div[2]/div[2]/div[3]/div[1]/div[2]/div[1]/table[1]/tbody[1]/tr[1]/td[3]/select[1]/option[5]')))\\\n",
        "    .click()\n",
        "\n",
        "# Click en buscar\n",
        "WebDriverWait(driver, 60)\\\n",
        "    .until(EC.element_to_be_clickable((By.XPATH,\n",
        "                                      '/html[1]/body[1]/div[1]/div[2]/div[2]/div[2]/div[3]/div[1]/div[2]/div[1]/table[2]/tbody[1]/tr[2]/td[3]/div[1]/a[1]')))\\\n",
        "    .click()\n",
        "\n",
        "# Click en buscar\n",
        "WebDriverWait(driver, 60)\\\n",
        "    .until(EC.element_to_be_clickable((By.XPATH,\n",
        "                                      '/html[1]/body[1]/div[1]/div[2]/div[2]/div[2]/div[3]/div[1]/div[2]/div[1]/table[2]/tbody[1]/tr[2]/td[3]/div[1]/a[1]')))\\\n",
        "    .click()\n",
        "\n",
        "# Click en buscar\n",
        "WebDriverWait(driver, 60)\\\n",
        "    .until(EC.element_to_be_clickable((By.XPATH,\n",
        "                                      '/html[1]/body[1]/div[1]/div[2]/div[2]/div[2]/div[3]/div[1]/div[2]/div[1]/table[2]/tbody[1]/tr[2]/td[3]/div[1]/a[1]')))\\\n",
        "    .click()"
      ],
      "metadata": {
        "id": "qFcd633tvwVs"
      },
      "execution_count": 12,
      "outputs": []
    },
    {
      "cell_type": "code",
      "source": [
        "lista_fondos2 = []\n",
        "lista_data2 = []\n",
        "lista_fecha2 = []\n",
        "table = driver.find_element(By.ID, 'selectClase')\n",
        "rows = table.find_elements(By.TAG_NAME, 'option')\n",
        "cant = driver.find_element(By.XPATH, '/html[1]/body[1]/div[1]/div[2]/div[2]/div[2]/div[2]/div[1]/div[2]/div[1]/div[3]/strong[1]/span[1]')\n",
        "cant = cant.text\n",
        "print(cant)"
      ],
      "metadata": {
        "colab": {
          "base_uri": "https://localhost:8080/"
        },
        "id": "lhsLmXJXydr0",
        "outputId": "026cd354-3410-4d50-9b57-e58a0435baf6"
      },
      "execution_count": 13,
      "outputs": [
        {
          "output_type": "stream",
          "name": "stdout",
          "text": [
            "172\n"
          ]
        }
      ]
    },
    {
      "cell_type": "code",
      "source": [
        "## Codigo FINAL\n",
        "\n",
        "from selenium.webdriver.support.ui import Select\n",
        "from selenium.webdriver.support.ui import WebDriverWait\n",
        "from selenium.webdriver.support import expected_conditions as EC\n",
        "\n",
        "lista_fondos2 = []\n",
        "lista_data2 = []\n",
        "lista_fecha2 = []\n",
        "\n",
        "table = driver.find_element(By.ID, 'selectClase')\n",
        "select = Select(table)\n",
        "\n",
        "options = [\"1810 Ahorro\", \"Adcap Acciones Globales - Clase E\"]\n",
        "\n",
        "for option in options:\n",
        "  select.select_by_visible_text(option)\n",
        "  lista_fondos2.append(option)\n",
        "\n",
        "  ver_button = driver.find_element(By.CSS_SELECTOR, '#tabsFix > div.content > a')\n",
        "  ver_button.click()\n",
        "\n",
        "  # Esperar a que se cargue la página\n",
        "  wait = WebDriverWait(driver, 60)\n",
        "  data = wait.until(EC.presence_of_element_located((By.XPATH, '/html[1]/body[1]/div[1]/div[2]/div[2]/div[2]/div[2]/div[1]/div[3]/div[3]/p[2]')))\n",
        "  fecha = wait.until(EC.presence_of_element_located((By.XPATH, '/html[1]/body[1]/div[1]/div[2]/div[2]/div[2]/div[2]/div[1]/div[3]/div[3]/h3[1]')))\n",
        "\n",
        "  # Obtener información de la página siguiente\n",
        "  data = data.text\n",
        "  print(data)\n",
        "  lista_data2.append(data.replace('Valor por cada cuotaparte:',''))\n",
        "  fecha = fecha.text\n",
        "  print(fecha)\n",
        "  lista_fecha2.append(fecha.replace('Valores al ',''))\n",
        "\n",
        "  # Volver a la tabla original\n",
        "  driver.back()\n",
        "\n",
        "  # Encontrar la tabla original nuevamente\n",
        "  table = driver.find_element(By.ID, 'selectClase')\n",
        "  select = Select(table)\n",
        "\n",
        "# Cerrar el driver\n",
        "driver.quit()\n",
        "\n",
        "print(lista_fondos2)\n",
        "print(lista_data2)\n",
        "print(lista_fecha2)\n",
        "\n",
        "df = pd.DataFrame({'Fondo': lista_fondos2, 'Valor por cada cuotaparte': lista_data2, 'Fecha': lista_fecha2})\n",
        "print(df)\n",
        "df.to_excel('cuotapartes_usadas.xlsx', index=False)\n",
        "files.download('cuotapartes_usadas.xlsx')\n"
      ],
      "metadata": {
        "id": "M9rX1h4Uhvko"
      },
      "execution_count": null,
      "outputs": []
    },
    {
      "cell_type": "code",
      "source": [],
      "metadata": {
        "id": "Z6i4jR8r5FU1"
      },
      "execution_count": null,
      "outputs": []
    },
    {
      "cell_type": "code",
      "source": [],
      "metadata": {
        "id": "sGUplNiS5GSJ"
      },
      "execution_count": null,
      "outputs": []
    },
    {
      "cell_type": "code",
      "source": [],
      "metadata": {
        "id": "nZ7O-lVF5GOn"
      },
      "execution_count": null,
      "outputs": []
    },
    {
      "cell_type": "code",
      "source": [],
      "metadata": {
        "id": "5EAExxh95GMG"
      },
      "execution_count": null,
      "outputs": []
    },
    {
      "cell_type": "code",
      "source": [],
      "metadata": {
        "id": "ZJaK9bQY5GJp"
      },
      "execution_count": null,
      "outputs": []
    },
    {
      "cell_type": "code",
      "source": [],
      "metadata": {
        "id": "nbgxesi9B393"
      },
      "execution_count": null,
      "outputs": []
    }
  ]
}